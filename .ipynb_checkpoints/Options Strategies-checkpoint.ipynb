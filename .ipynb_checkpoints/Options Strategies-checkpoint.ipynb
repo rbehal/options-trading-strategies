{
 "cells": [
  {
   "cell_type": "markdown",
   "metadata": {},
   "source": [
    "# Options Trading Strategies"
   ]
  },
  {
   "cell_type": "code",
   "execution_count": 11,
   "metadata": {},
   "outputs": [],
   "source": [
    "import numpy as np \n",
    "import matplotlib.pyplot as plt\n",
    "\n",
    "import seaborn as sns\n",
    "sns.set()\n",
    "sns.set_style('white')"
   ]
  },
  {
   "cell_type": "markdown",
   "metadata": {},
   "source": [
    "## Bull Call Spreads"
   ]
  },
  {
   "cell_type": "markdown",
   "metadata": {},
   "source": [
    "### Function for plotting Stock Price and P/L"
   ]
  },
  {
   "cell_type": "code",
   "execution_count": null,
   "metadata": {},
   "outputs": [],
   "source": [
    "def pl_plot_bcs(ITM_sp,OTM_sp,qty_opts,net_debit,max_profit,b_even):\n",
    "\n",
    "    #Creating array of x values (stock prices)\n",
    "    dx = 100    \n",
    "    x = np.linspace(ITM_sp - 2.00, OTM_sp + 2.00, dx)\n",
    "    \n",
    "    #Piecewise function y(x) calculated as \n",
    "    y = np.piecewise(x, [x <= ITM_sp, (x > ITM_sp) * (x < OTM_sp), x >= OTM_sp], \n",
    "                    [net_debit, lambda x: (100 * qty_opts * (x - ITM_sp)) + net_debit,max_profit])\n",
    "    \n",
    "    #Creating array of xtick labels \n",
    "    space = 2\n",
    "    start = ITM_sp - space\n",
    "    stop = OTM_sp + space\n",
    "    step = .5 \n",
    "    x_list = []\n",
    "\n",
    "    while start <= stop: \n",
    "        x_list.append(start)\n",
    "        start = round(start + step,1)\n",
    "    x_list.append(round(b_even,2))\n",
    "    \n",
    "    #Creating figure of the plot\n",
    "    fig = plt.figure(figsize = (10,5))\n",
    "    \n",
    "    #Making axis a subplot and moving it to the 0 position\n",
    "    ax = fig.add_subplot(1, 1, 1)\n",
    "    ax.spines['bottom'].set_position('zero')\n",
    "    \n",
    "    #Setting y_axis limit\n",
    "    if (abs(net_debit) > abs(max_profit)):\n",
    "        ax.set_ylim([1.1 * net_debit, max_profit - (net_debit * .1)])\n",
    "    else:\n",
    "        ax.set_ylim([net_debit - (.1 * max_profit), 1.1 * max_profit])\n",
    "    \n",
    "    #Labelling and creating xticks\n",
    "    plt.xticks(x_list,x_list)\n",
    "    \n",
    "    #Labelling and creating yticks\n",
    "    plt.yticks([0, net_debit, max_profit], [0, round(net_debit,2), round(max_profit,2)])\n",
    "    \n",
    "    #Plotting x,y and setting style\n",
    "    plt.plot(x,y)\n",
    "    \n",
    "    #Creating axis to replace the moved one from the bottom\n",
    "    ax2 = ax.twiny()\n",
    "    ax2.set_xticks([])\n",
    "    \n",
    "    #Displaying plot\n",
    "    plt.show()"
   ]
  },
  {
   "cell_type": "markdown",
   "metadata": {},
   "source": [
    "### Function for the Bull Call Spread"
   ]
  },
  {
   "cell_type": "code",
   "execution_count": null,
   "metadata": {
    "scrolled": true
   },
   "outputs": [],
   "source": [
    "#In this strategy we BUY ITM CALL(s) and SELL OTM CALL(s)\n",
    "def bcspread():\n",
    "    \n",
    "    #User inputs strike price, qty of options, and premiums\n",
    "    qty_opts = int(input(\"How many options are you buying? \"))\n",
    "\n",
    "    OTM_sp = float(input(\"Enter the strike price of the OTM CALL (higher strike): \"))\n",
    "    ITM_sp = float(input(\"Enter the strike price of the ITM CALL (lower strike): \"))\n",
    "\n",
    "    OTM_pr = float(input(\"Enter the BID of the OTM CALL (higher strike): \"))\n",
    "    ITM_pr = float(input(\"Enter the ASK of the ITM CALL (lower strike): \"))\n",
    "\n",
    "    #TEST VALUES\n",
    "#     qty_opts = 100\n",
    "#     OTM_sp = 12\n",
    "#     ITM_sp = 11.5\n",
    "#     OTM_pr = .33\n",
    "#     ITM_pr = .66\n",
    "\n",
    "    #Calculating and displaying key values\n",
    "    net_debit = (-100 * qty_opts * (ITM_pr - OTM_pr)) - 9.95\n",
    "    b_even = (-net_debit / (qty_opts * 100)) + ITM_sp \n",
    "    max_profit = (qty_opts * 100 * (OTM_sp - b_even)) - 9.95\n",
    "    risk_reward = abs(max_profit / net_debit)\n",
    "    prob_win = (-100 * net_debit) / (max_profit - net_debit)\n",
    "            \n",
    "    pl_plot_bcs(ITM_sp,OTM_sp,qty_opts,net_debit,max_profit,b_even)\n",
    "    \n",
    "    print(\n",
    "        \"\\nThe net debit & max loss is:\", round(net_debit,2), \n",
    "        \"\\nThe max profit is:\" , round(max_profit,2),\n",
    "        \"\\nThe breakeven point is:\", round(b_even,2), \n",
    "        \"\\nThe risk/reward is:\", round(risk_reward,2), \n",
    "        \"\\nYou must win this trade {:.2f}% of the time.\".format(prob_win)         \n",
    "    )"
   ]
  },
  {
   "cell_type": "markdown",
   "metadata": {},
   "source": [
    "### Bull Call Spread Calculator"
   ]
  },
  {
   "cell_type": "code",
   "execution_count": null,
   "metadata": {},
   "outputs": [],
   "source": [
    "bcspread()"
   ]
  },
  {
   "cell_type": "markdown",
   "metadata": {},
   "source": [
    "## Bear Put Spread"
   ]
  },
  {
   "cell_type": "markdown",
   "metadata": {},
   "source": [
    "### Function for plotting Stock Price and P/L"
   ]
  },
  {
   "cell_type": "code",
   "execution_count": null,
   "metadata": {},
   "outputs": [],
   "source": [
    "def pl_plot_bps(ITM_sp,OTM_sp,qty_opts,net_debit,max_profit,b_even):\n",
    "    \n",
    "    #Creating array of x values (stock prices)\n",
    "    dx = 100    \n",
    "    x = np.linspace(OTM_sp - 2.00, ITM_sp + 2.00, dx)\n",
    "    \n",
    "    #Piecewise function y(x) calculated as \n",
    "    y = np.piecewise(x, [x <= OTM_sp, (x > OTM_sp) * (x < ITM_sp), x >= ITM_sp], \n",
    "                    [max_profit, lambda x: (100 * qty_opts * (ITM_sp - x)) + net_debit,net_debit])\n",
    "    \n",
    "    #Creating array of xtick labels \n",
    "    space = 2\n",
    "    start = ITM_sp - space\n",
    "    stop = OTM_sp + space\n",
    "    step = .5 \n",
    "    x_list = []\n",
    "\n",
    "    while start <= stop: \n",
    "        x_list.append(start)\n",
    "        start = round(start + step,1)\n",
    "    x_list.append(round(b_even,2))\n",
    "    \n",
    "    #Creating figure of the plot\n",
    "    fig = plt.figure(figsize = (10,5))\n",
    "    \n",
    "    #Making axis a subplot and moving it to the 0 position\n",
    "    ax = fig.add_subplot(1, 1, 1)\n",
    "    ax.spines['bottom'].set_position('zero')\n",
    "    \n",
    "    #Setting y_axis limit\n",
    "    if (abs(net_debit) > abs(max_profit)):\n",
    "        ax.set_ylim([1.1 * net_debit, max_profit - (net_debit * .1)])\n",
    "    else:\n",
    "        ax.set_ylim([net_debit - (.1 * max_profit), 1.1 * max_profit])\n",
    "    \n",
    "    #Labelling and creating xticks\n",
    "    plt.xticks(x_list,x_list)\n",
    "    \n",
    "    #Labelling and creating yticks\n",
    "    plt.yticks([0, net_debit, max_profit], [0, round(net_debit,2), round(max_profit,2)])\n",
    "    \n",
    "    #Plotting x,y \n",
    "    plt.plot(x,y)\n",
    "    \n",
    "    #Creating axis to replace the moved one from the bottom\n",
    "    ax2 = ax.twiny()\n",
    "    ax2.set_xticks([])\n",
    "    \n",
    "    #Displaying plot\n",
    "    plt.show()"
   ]
  },
  {
   "cell_type": "markdown",
   "metadata": {},
   "source": [
    "### Function for the Bear Put Spread"
   ]
  },
  {
   "cell_type": "code",
   "execution_count": null,
   "metadata": {
    "scrolled": false
   },
   "outputs": [],
   "source": [
    "#In this strategy we BUY ITM PUT(s) and SELL OTM PUT(s)\n",
    "def bpspread():\n",
    "    \n",
    "    #User inputs strike price, qty of options, and premiums\n",
    "    qty_opts = int(input(\"How many options are you buying? \"))\n",
    "\n",
    "    OTM_sp = float(input(\"Enter the strike price of the OTM PUT (lower strike): \"))\n",
    "    ITM_sp = float(input(\"Enter the strike price of the ITM PUT (higher strike): \"))\n",
    "\n",
    "    OTM_pr = float(input(\"Enter the BID of the OTM PUT (lower strike): \"))\n",
    "    ITM_pr = float(input(\"Enter the ASK of the ITM PUT (higher strike): \"))\n",
    "\n",
    "    #TEST VALUES\n",
    "#     qty_opts = 2000\n",
    "#     OTM_sp = 5\n",
    "#     ITM_sp = 6\n",
    "#     OTM_pr = .04\n",
    "#     ITM_pr = .08\n",
    "\n",
    "    #Calculating and displaying key values\n",
    "    net_debit = (-100 * qty_opts * (ITM_pr - OTM_pr)) - 9.95\n",
    "    b_even = (net_debit / (qty_opts * 100)) + ITM_sp \n",
    "    max_profit = (qty_opts * 100 * (b_even - OTM_sp)) - 9.95\n",
    "    risk_reward = abs(max_profit / net_debit)\n",
    "    prob_win = (-100 * net_debit) / (max_profit - net_debit)\n",
    "\n",
    "            \n",
    "    pl_plot_bps(ITM_sp,OTM_sp,qty_opts,net_debit,max_profit,b_even)\n",
    "    \n",
    "    print(\n",
    "        \"\\nThe net debit & max loss is:\", round(net_debit,2), \n",
    "        \"\\nThe max profit is:\" , round(max_profit,2),\n",
    "        \"\\nThe breakeven point is:\", round(b_even,2), \n",
    "        \"\\nThe risk/reward is:\", round(risk_reward,2),\n",
    "        \"\\nYou must win this trade {:.2f}% of the time.\".format(prob_win)         \n",
    "    )"
   ]
  },
  {
   "cell_type": "markdown",
   "metadata": {},
   "source": [
    "### Bear Put Spread Calculator"
   ]
  },
  {
   "cell_type": "code",
   "execution_count": null,
   "metadata": {},
   "outputs": [],
   "source": [
    "bpspread()"
   ]
  },
  {
   "cell_type": "markdown",
   "metadata": {},
   "source": [
    "## Long Straddle"
   ]
  },
  {
   "cell_type": "markdown",
   "metadata": {},
   "source": [
    "### Function for plotting Stock Price and P/L"
   ]
  },
  {
   "cell_type": "code",
   "execution_count": null,
   "metadata": {},
   "outputs": [],
   "source": [
    "def pl_plot_ls(ATM_sp,qty_opts,net_debit,b_even_call,b_even_put):\n",
    "    max_profit = -(net_debit * 1.1)\n",
    "    \n",
    "    #Creating array of x values (stock prices)\n",
    "    dx = 100    \n",
    "    x = np.linspace(ATM_sp - 2.00, ATM_sp + 2.00, dx)\n",
    "    \n",
    "    #Piecewise function y(x) calculated as \n",
    "    y = np.piecewise(x, [x < ATM_sp, x == ATM_sp, x > ATM_sp], \n",
    "                    [lambda x: (100 * qty_opts * (ATM_sp - x)) + net_debit, \n",
    "                     net_debit,\n",
    "                     lambda x: (100 * qty_opts * (x - ATM_sp)) + net_debit])\n",
    "    \n",
    "    #Creating array of xtick labels \n",
    "    space = 2\n",
    "    start = ATM_sp - space\n",
    "    stop = ATM_sp + space\n",
    "    step = .5 \n",
    "    x_list = []\n",
    "\n",
    "    while start <= stop: \n",
    "        x_list.append(start)\n",
    "        start = round(start + step,1)\n",
    "    x_list.append(round(b_even_call,2))\n",
    "    x_list.append(round(b_even_put,2))\n",
    "\n",
    "    \n",
    "    #Creating figure of the plot\n",
    "    fig = plt.figure(figsize = (10,5))\n",
    "    \n",
    "    #Making axis a subplot and moving it to the 0 position\n",
    "    ax = fig.add_subplot(1, 1, 1)\n",
    "    ax.spines['bottom'].set_position('zero')\n",
    "    \n",
    "    #Setting y_axis limit   \n",
    "    ax.set_ylim([1.1 * net_debit, max_profit])\n",
    "    \n",
    "    #Labelling and creating xticks\n",
    "    plt.xticks(x_list,x_list)\n",
    "    \n",
    "    #Labelling and creating yticks\n",
    "    plt.yticks([0, net_debit, max_profit], [0, round(net_debit,2), round(max_profit,2)])\n",
    "    \n",
    "    #Plotting x,y \n",
    "    plt.plot(x,y)\n",
    "    \n",
    "    #Creating axis to replace the moved one from the bottom\n",
    "    ax2 = ax.twiny()\n",
    "    ax2.set_xticks([])\n",
    "    \n",
    "    #Displaying plot\n",
    "    plt.show()"
   ]
  },
  {
   "cell_type": "markdown",
   "metadata": {},
   "source": [
    "### Function for Long Straddle"
   ]
  },
  {
   "cell_type": "code",
   "execution_count": null,
   "metadata": {
    "scrolled": false
   },
   "outputs": [],
   "source": [
    "#In this strategy we BUY 1 ATM CALL and 1 ATM PUT at the same strike.\n",
    "def l_straddle(): \n",
    "    #User inputs strike price, qty of options, and premiums\n",
    "    qty_opts = int(input(\"How many options are you buying? \"))\n",
    "\n",
    "    ATM_sp = float(input(\"Enter the ATM strike price of the two options: \"))\n",
    "\n",
    "    CALL_pr = float(input(\"Enter the ASK of the ATM CALL: \"))\n",
    "    PUT_pr = float(input(\"Enter the ASK of the ATM PUT: \"))\n",
    "\n",
    "    #TEST VALUES\n",
    "#     qty_opts = 100\n",
    "#     ATM_sp = 7\n",
    "#     CALL_pr = .20\n",
    "#     PUT_pr = .52\n",
    "\n",
    "    #Calculating and displaying key values\n",
    "    net_debit = (-100 * qty_opts * (CALL_pr + PUT_pr)) - 9.95\n",
    "    b_even_call = (-net_debit / (qty_opts * 100)) + ATM_sp\n",
    "    b_even_put = (net_debit / (qty_opts * 100)) + ATM_sp\n",
    "            \n",
    "    pl_plot_ls(ATM_sp,qty_opts,net_debit,b_even_call,b_even_put)\n",
    "    \n",
    "    print(\n",
    "        \"\\nThe net debit & max loss is:\", round(net_debit,2), \n",
    "        \"\\nThe max profit is unlimited.\",\n",
    "        \"\\nThe call breakeven point is:\", round(b_even_call,2), \n",
    "        \"\\nThe put breakeven point is:\", round(b_even_put,2)         \n",
    "    )"
   ]
  },
  {
   "cell_type": "markdown",
   "metadata": {},
   "source": [
    "### Long Straddle Calculator"
   ]
  },
  {
   "cell_type": "code",
   "execution_count": null,
   "metadata": {},
   "outputs": [],
   "source": [
    "l_straddle()"
   ]
  },
  {
   "cell_type": "markdown",
   "metadata": {},
   "source": [
    "## Iron Condor"
   ]
  },
  {
   "cell_type": "markdown",
   "metadata": {},
   "source": [
    "### Function for plotting Stock Price and P/L"
   ]
  },
  {
   "cell_type": "code",
   "execution_count": null,
   "metadata": {},
   "outputs": [],
   "source": [
    "def pl_plot_ic(qty_opts, net_credit, max_loss_above, \n",
    "               max_loss_below, long_put_sp, long_call_sp, \n",
    "               short_put_sp, short_call_sp, b_even_above, b_even_below):\n",
    "    \n",
    "    #Creating array of x values (stock prices)\n",
    "    dx = 100    \n",
    "    x = np.linspace(long_put_sp - 2.00, long_call_sp + 2.00, dx)\n",
    "    \n",
    "    #Piecewise function y(x) calculated as \n",
    "    y = np.piecewise(x, [x <= long_put_sp, (x > long_put_sp)*(x < short_put_sp),\n",
    "                         (x >= short_put_sp)*(x <= short_call_sp),\n",
    "                         (x > short_call_sp)*(x < long_call_sp), \n",
    "                         x >= long_call_sp], \n",
    "                    [max_loss_below, \n",
    "                     lambda x: ((net_credit) - (100*qty_opts*(short_put_sp - x))),\n",
    "                     net_credit,\n",
    "                     lambda x: ((net_credit) - (100*qty_opts*(x - short_call_sp))),\n",
    "                     max_loss_above])\n",
    "    \n",
    "    #Creating array of xtick labels \n",
    "    space = 2\n",
    "    start = long_put_sp - space\n",
    "    stop = long_call_sp + space\n",
    "    step = 2\n",
    "    x_list = []\n",
    "\n",
    "    while start <= stop: \n",
    "        x_list.append(start)\n",
    "        start = round(start + step,1)\n",
    "    x_list.append(round(b_even_above,2))\n",
    "    x_list.append(round(b_even_below,2))\n",
    "\n",
    "    \n",
    "    #Creating figure of the plot\n",
    "    fig = plt.figure(figsize = (10,5))\n",
    "    \n",
    "    #Making axis a subplot and moving it to the 0 position\n",
    "    ax = fig.add_subplot(1, 1, 1)\n",
    "    ax.spines['bottom'].set_position('zero')\n",
    "    \n",
    "    #Setting y_axis limits\n",
    "    if net_credit > abs(max_loss_above or max_loss_below):\n",
    "        ax.set_ylim([-1.1 * net_credit, 1.1*net_credit])\n",
    "    elif abs(max_loss_above) > net_credit:\n",
    "        ax.set_ylim([1.1*max_loss_above, -1.1*max_loss_above])\n",
    "    else:\n",
    "        ax.set_ylim([1.1*max_loss_below, -1.1*max_loss_below])\n",
    "\n",
    "    \n",
    "    #Labelling and creating xticks\n",
    "    plt.xticks(x_list,x_list)\n",
    "    \n",
    "    #Labelling and creating yticks\n",
    "    if max_loss_above == max_loss_below:\n",
    "        plt.yticks([0, max_loss_above, net_credit], [0, round(max_loss_above,2), round(net_credit,2)])\n",
    "    else:\n",
    "        plt.yticks([0, max_loss_above, max_loss_below, net_credit], [0, round(max_loss_above,2), round(max_loss_below,2), round(net_credit,2)])\n",
    "            \n",
    "    \n",
    "    #Plotting x,y \n",
    "    plt.plot(x,y)\n",
    "    \n",
    "    #Creating axis to replace the moved one from the bottom\n",
    "    ax2 = ax.twiny()\n",
    "    ax2.set_xticks([])\n",
    "    \n",
    "    #Displaying plot\n",
    "    plt.show()"
   ]
  },
  {
   "cell_type": "markdown",
   "metadata": {},
   "source": [
    "### Function for Iron Condor"
   ]
  },
  {
   "cell_type": "code",
   "execution_count": null,
   "metadata": {
    "scrolled": true
   },
   "outputs": [],
   "source": [
    "#In this strategy we SELL two OTM options and BUY two further OTM options\n",
    "def i_condor(): \n",
    "    #User inputs strike price, qty of options, and premiums\n",
    "    qty_opts = int(input(\"How many options are you buying? \"))\n",
    "\n",
    "    long_call_sp = float(input(\"Enter the strike price of the long call: \"))\n",
    "    long_put_sp = float(input(\"Enter the strike price of the long put: \"))\n",
    "    short_call_sp = float(input(\"Enter the strike price of the short call: \"))\n",
    "    short_put_sp = float(input(\"Enter the strike price of the short put: \"))\n",
    "\n",
    "    long_call_pr = float(input(\"Enter the premium of the long call: \"))\n",
    "    long_put_pr = float(input(\"Enter the premium of the long put: \"))\n",
    "    short_call_pr = float(input(\"Enter the premium of the short call: \"))\n",
    "    short_put_pr = float(input(\"Enter the premium of the short put: \"))   \n",
    "    \n",
    "    #TEST VALUES\n",
    "#     qty_opts = 1.0\n",
    "#     long_call_sp, long_put_sp = 60.0, 45.0\n",
    "#     short_call_sp, short_put_sp = 55.0, 50.0\n",
    "#     long_call_pr, long_put_pr = 1.01, 0.78\n",
    "#     short_call_pr, short_put_pr = 2.32, 2.21   \n",
    "    \n",
    "    #Calculating net premiums received/paid\n",
    "    pr_received = 100 * qty_opts * (short_call_pr + short_put_pr)\n",
    "    pr_paid = 100 * qty_opts * (long_call_pr + long_put_pr)\n",
    "    \n",
    "    #Calculating and displaying key values\n",
    "    net_credit = ((pr_received - pr_paid)) - (4*9.95)\n",
    "    max_loss_above = net_credit - (qty_opts*100*(long_call_sp - short_call_sp))\n",
    "    max_loss_below = net_credit - (qty_opts*100*(short_put_sp - long_put_sp))\n",
    "    b_even_above = short_call_sp + (net_credit/(100*qty_opts))\n",
    "    b_even_below = short_put_sp - (net_credit/(100*qty_opts))         \n",
    "    print(\n",
    "        \"\\nThe net credit & max profit is:\", round(net_credit,2), \n",
    "        \"\\nThe max loss if stock price rises is:\", round(max_loss_above, 2),\n",
    "        \"\\nThe max loss if stock price falls is:\", round(max_loss_below, 2),\n",
    "        \"\\nThe breakeven points are:\", round(b_even_above,2), \n",
    "        \"and\", round(b_even_below,2) \n",
    "    )    \n",
    "    \n",
    "    #Graphing P/L\n",
    "    pl_plot_ic(qty_opts, net_credit, max_loss_above, \n",
    "               max_loss_below, long_put_sp, long_call_sp, \n",
    "               short_put_sp, short_call_sp, b_even_above, b_even_below)"
   ]
  },
  {
   "cell_type": "markdown",
   "metadata": {},
   "source": [
    "### Iron Condor Calculator"
   ]
  },
  {
   "cell_type": "code",
   "execution_count": null,
   "metadata": {},
   "outputs": [],
   "source": [
    "i_condor()"
   ]
  },
  {
   "cell_type": "markdown",
   "metadata": {},
   "source": [
    "## Collar Function"
   ]
  },
  {
   "cell_type": "markdown",
   "metadata": {},
   "source": [
    "### Function for plotting Stock Price and P/L"
   ]
  },
  {
   "cell_type": "code",
   "execution_count": null,
   "metadata": {},
   "outputs": [],
   "source": [
    "def pl_plot_collar(short_call_sp,long_put_sp,num_options,net_debit,max_profit, max_loss, breakeven_price):\n",
    "    \n",
    "    #Creating array of x values (stock prices)\n",
    "    dx = 100    \n",
    "    x = np.linspace(long_put_sp - 2.00,  short_call_sp + 2.00, dx)\n",
    "    \n",
    "    #Piecewise function y(x) calculated as \n",
    "    y = np.piecewise(x, [x <= long_put_sp, (x > long_put_sp) * (x < short_call_sp), x >= short_call_sp], \n",
    "                    [max_loss, lambda x: (100 * num_options * x) + net_debit, max_profit])\n",
    "    \n",
    "    #Creating array of xtick labels \n",
    "    space = 2\n",
    "    start = long_put_sp - space\n",
    "    stop = short_call_sp + space\n",
    "    step = .5 \n",
    "    x_list = []\n",
    "\n",
    "    while start <= stop: \n",
    "        x_list.append(start)\n",
    "        start = start + step\n",
    "    x_list.append(round(breakeven_price,2))\n",
    "    \n",
    "    #Creating figure of the plot\n",
    "    fig = plt.figure(figsize = (10,5))\n",
    "    \n",
    "    #Making axis a subplot and moving it to the 0 position\n",
    "    ax = fig.add_subplot(1, 1, 1)\n",
    "    ax.spines['bottom'].set_position('zero')\n",
    "    \n",
    "    #Setting y_axis limit\n",
    "    if (abs(max_loss) > abs(max_profit)):\n",
    "        ax.set_ylim([1.1 * max_loss, max_profit - (max_loss * .1)])\n",
    "    else:\n",
    "        ax.set_ylim([max_loss - (.1 * max_profit), 1.1 * max_profit])\n",
    "    \n",
    "    #Labelling and creating xticks\n",
    "    plt.xticks(x_list,x_list)\n",
    "    \n",
    "    #Labelling and creating yticks\n",
    "    plt.yticks([0, max_loss, max_profit], [0, round(max_loss,2), round(max_profit,2)])\n",
    "    \n",
    "    #Plotting x,y \n",
    "    plt.plot(x,y)\n",
    "            \n",
    "    #Creating axis to replace the moved one from the bottom\n",
    "    ax2 = ax.twiny()\n",
    "    ax2.set_xticks([])\n",
    "    \n",
    "    #Displaying plot\n",
    "    plt.show()"
   ]
  },
  {
   "cell_type": "markdown",
   "metadata": {},
   "source": [
    "### Function for Collar"
   ]
  },
  {
   "cell_type": "code",
   "execution_count": null,
   "metadata": {},
   "outputs": [],
   "source": [
    "#In this strategy we BUY 100 shares of a stock, SELL an OTM CALL, and BUY an OTM PUT\n",
    "def collar():\n",
    "    short_call_sp = float(input(\"Enter the strike price of the short call: \"))\n",
    "    long_put_sp = float(input(\"Enter the strike price of the long put: \"))\n",
    "    put_ask = float(input(\"Enter the ASK price of the long put: \"))\n",
    "    call_bid = float(input(\"Enter the BID price of the short call: \"))\n",
    "    stock_price = float(input(\"Enter the price of the stock: \"))\n",
    "    num_options = float(input(\"Enter the number of options: \"))\n",
    "    num_stocks = num_options * 100\n",
    "\n",
    "#     TEST VALUES\n",
    "#     short_call_sp = 25\n",
    "#     long_put_sp = 24.5\n",
    "#     put_ask = 0.06\n",
    "#     call_bid = 0.02\n",
    "#     stock_price = 24.76\n",
    "#     num_stocks = 200\n",
    "#     num_options = num_stocks/100\n",
    "    \n",
    "    net_debit = (call_bid-put_ask)*num_stocks-9.95-(num_stocks*stock_price)\n",
    "    debit_withoutsp = (call_bid-put_ask)*num_stocks-9.95\n",
    "    max_profit = (short_call_sp-stock_price)*num_stocks + debit_withoutsp\n",
    "    max_loss = -((stock_price-long_put_sp)*num_stocks) + debit_withoutsp\n",
    "    \n",
    "    if call_bid >= put_ask: \n",
    "        breakeven_price = stock_price - (call_bid - put_ask) + (9.95/num_stocks)\n",
    "    elif put_ask > call_bid:\n",
    "        \n",
    "        breakeven_price = stock_price + (put_ask-call_bid) + (9.95/num_stocks)\n",
    "\n",
    "    pl_plot_collar(short_call_sp,long_put_sp,num_options,net_debit,max_profit, max_loss, breakeven_price)        \n",
    "    \n",
    "    print(\n",
    "        \"\\nThe net debit is:\", round(net_debit,2), \n",
    "        \"\\nThe max loss is:\", round(max_loss,2),   \n",
    "        \"\\nThe max profit is:\", round(max_profit,2),\n",
    "        \"\\nThe breakeven price is:\", round(breakeven_price,2), \n",
    "    )"
   ]
  },
  {
   "cell_type": "markdown",
   "metadata": {},
   "source": [
    "### Collar Calculator"
   ]
  },
  {
   "cell_type": "code",
   "execution_count": null,
   "metadata": {
    "scrolled": false
   },
   "outputs": [],
   "source": [
    "collar()"
   ]
  },
  {
   "cell_type": "markdown",
   "metadata": {},
   "source": [
    "## Covered Call"
   ]
  },
  {
   "cell_type": "markdown",
   "metadata": {},
   "source": [
    "### Function for plotting Stock Price and P/L"
   ]
  },
  {
   "cell_type": "code",
   "execution_count": null,
   "metadata": {},
   "outputs": [],
   "source": [
    "def pl_plot_cc(curr_stock_price, strk_price, max_profit, net_debit, break_even_price,stock_prop):\n",
    "    \n",
    "    net_debit *= -1\n",
    "    #Creating array of x values (stock prices)\n",
    "    dx = 100    \n",
    "    x = np.linspace(curr_stock_price * 0.80, curr_stock_price * 1.2, dx)\n",
    "    \n",
    "    #Piecewise function y(x) calculated as \n",
    "    y = np.piecewise(x, [x < strk_price,  x >= strk_price], \n",
    "                    [lambda x: stock_prop*x + net_debit, max_profit])\n",
    "    \n",
    "    #Creating array of xtick labels \n",
    "    start = round(curr_stock_price * 0.80, 2)\n",
    "    stop = round(curr_stock_price * 1.2, 2)\n",
    "    step = 1 \n",
    "    x_list = []\n",
    "\n",
    "    while start <= stop: \n",
    "        x_list.append(start)\n",
    "        start = round(start + step,1)\n",
    "    x_list.append(round(break_even_price,2))\n",
    "    \n",
    "    #Creating figure of the plot\n",
    "    fig = plt.figure(figsize = (10,5))\n",
    "    \n",
    "    #Making axis a subplot and moving it to the 0 position\n",
    "    ax = fig.add_subplot(1, 1, 1)\n",
    "    ax.spines['bottom'].set_position('zero')\n",
    "    \n",
    "    #Setting y_axis limit`\n",
    "    ax.set_ylim([-1.1*max_profit, max_profit*1.10])\n",
    "\n",
    "    \n",
    "    #Labelling and creating xticks\n",
    "    plt.xticks(x_list,x_list)\n",
    "    \n",
    "    #Labelling and creating yticks\n",
    "    plt.yticks([0, -1.1*max_profit, max_profit], [0, round(-1.1*max_profit,2), round(max_profit,2)])\n",
    "    \n",
    "    #Plotting x,y \n",
    "    plt.plot(x,y)\n",
    "    \n",
    "    #Creating axis to replace the moved one from the bottom\n",
    "    ax2 = ax.twiny()\n",
    "    ax2.set_xticks([])\n",
    "    \n",
    "    #Displaying plot\n",
    "    plt.show()"
   ]
  },
  {
   "cell_type": "markdown",
   "metadata": {},
   "source": [
    "### Function for Covered Call"
   ]
  },
  {
   "cell_type": "code",
   "execution_count": null,
   "metadata": {},
   "outputs": [],
   "source": [
    "#In this strategy we BUY 100 shares of stock and SELL one OTM CALL\n",
    "def covered_call():\n",
    "    curr_stock_price = float(input(\"What is the current share price? \"))\n",
    "    strk_price = float(input(\"What is the strike price of the short call? \"))\n",
    "    bid_call_price = float(input(\"What is the BID price of the short call? \"))\n",
    "    amt_options = float(input(\"How many options are you buying? \"))\n",
    "#    TEST VALUES\n",
    "#    curr_stock_price, strk_price, bid_call_price, amt_options, confirmation = 24.76, 25.00, 0.02, 10, \"Y\"\n",
    "    stock_prop = amt_options*100\n",
    "    \n",
    "    break_even_price = curr_stock_price - bid_call_price\n",
    "    net_debit = (curr_stock_price - bid_call_price) * stock_prop + 9.95\n",
    "    max_profit = strk_price*stock_prop - net_debit\n",
    "\n",
    "    pl_plot_cc(curr_stock_price, strk_price, max_profit, net_debit, break_even_price,stock_prop)        \n",
    "        \n",
    "    print(\"The break even price is: \"+str(break_even_price))\n",
    "    print(\"The net debit is: \"+str(-net_debit)) \n",
    "    print(\"The max loss is: \"+str(-net_debit))\n",
    "    print(\"The max profit is: \"+str(max_profit))"
   ]
  },
  {
   "cell_type": "markdown",
   "metadata": {},
   "source": [
    "### Covered Call Calculator"
   ]
  },
  {
   "cell_type": "code",
   "execution_count": null,
   "metadata": {},
   "outputs": [],
   "source": [
    "covered_call()"
   ]
  },
  {
   "cell_type": "markdown",
   "metadata": {},
   "source": [
    "# Naked Options"
   ]
  },
  {
   "cell_type": "markdown",
   "metadata": {},
   "source": [
    "## Naked Calls"
   ]
  },
  {
   "cell_type": "code",
   "execution_count": 2,
   "metadata": {},
   "outputs": [],
   "source": [
    "def naked_call():\n",
    "    #In this strategy we BUY 1 CALL\n",
    "    #User inputs strike price, qty of options, and premiums\n",
    "    qty_opts = int(input(\"How many options are you buying? \"))\n",
    "\n",
    "    strike_price = float(input(\"Enter the strike price of the option: \"))\n",
    "\n",
    "    CALL_pr = float(input(\"Enter the ASK of the CALL: \"))\n",
    "\n",
    "    #TEST VALUES\n",
    "#     qty_opts = 100\n",
    "#     ATM_sp = 7\n",
    "#     CALL_pr = .20\n",
    "#     PUT_pr = .52\n",
    "\n",
    "    #Calculating and displaying key values\n",
    "    net_debit = (-100 * qty_opts * (CALL_pr)) + 9.95\n",
    "    b_even = (-net_debit / (qty_opts * 100)) + strike_price\n",
    "            \n",
    "    pl_plot_ncall(net_debit, b_even, strike_price, qty_opts)\n",
    "    \n",
    "    print(\n",
    "        \"\\nThe net debit & max loss is:\", round(net_debit,2), \n",
    "        \"\\nThe max profit is unlimited.\",\n",
    "        \"\\nThe breakeven point is:\", round(b_even,2), \n",
    "    )\n",
    "    \n",
    "    while True:\n",
    "        exit_price = float(input(\"If the exit price is: \"))\n",
    "        print(\"The max profit is {:.2f}.\".format(100 * qty_opts * (exit_price - strike_price) + net_debit))"
   ]
  },
  {
   "cell_type": "code",
   "execution_count": 1,
   "metadata": {},
   "outputs": [],
   "source": [
    "def pl_plot_ncall(net_debit, breakeven_price, strike_price, num_options):\n",
    "    \n",
    "    #Creating array of x values (stock prices)\n",
    "    dx = 100    \n",
    "    x = np.linspace(strike_price - 2.00, strike_price + 2.00, dx)\n",
    "    \n",
    "    #Piecewise function y(x) calculated as \n",
    "    y = np.piecewise(x, [x <= strike_price, x >= strike_price], \n",
    "                    [net_debit, lambda x: (100 * num_options * x) + net_debit])\n",
    "    \n",
    "    #Creating array of xtick labels \n",
    "    space = 2\n",
    "    start = strike_price - space\n",
    "    stop = strike_price + space\n",
    "    step = .5 \n",
    "    x_list = []\n",
    "\n",
    "    while start <= stop: \n",
    "        x_list.append(start)\n",
    "        start = start + step\n",
    "    x_list.append(round(breakeven_price,2))\n",
    "    \n",
    "    #Creating figure of the plot\n",
    "    fig = plt.figure(figsize = (10,5))\n",
    "    \n",
    "    #Making axis a subplot and moving it to the 0 position\n",
    "    ax = fig.add_subplot(1, 1, 1)\n",
    "    ax.spines['bottom'].set_position('zero')\n",
    "        \n",
    "    #Labelling and creating xticks\n",
    "    plt.xticks(x_list,x_list)\n",
    "    \n",
    "    #Labelling and creating yticks\n",
    "    plt.yticks([0, net_debit], [0, round(net_debit,2)])\n",
    "    \n",
    "    #Plotting x,y \n",
    "    plt.plot(x,y)\n",
    "            \n",
    "    #Creating axis to replace the moved one from the bottom\n",
    "    ax2 = ax.twiny()\n",
    "    ax2.set_xticks([])\n",
    "    \n",
    "    #Displaying plot\n",
    "    plt.show()"
   ]
  },
  {
   "cell_type": "code",
   "execution_count": null,
   "metadata": {},
   "outputs": [],
   "source": [
    "naked_call()"
   ]
  },
  {
   "cell_type": "markdown",
   "metadata": {},
   "source": [
    "## Naked Puts"
   ]
  },
  {
   "cell_type": "code",
   "execution_count": 29,
   "metadata": {},
   "outputs": [],
   "source": [
    "def naked_put():\n",
    "    #In this strategy we BUY 1 PUT\n",
    "    #User inputs strike price, qty of options, and premiums\n",
    "    qty_opts = int(input(\"How many options are you buying? \"))\n",
    "\n",
    "    strike_price = float(input(\"Enter the strike price of the option: \"))\n",
    "\n",
    "    PUT_pr = float(input(\"Enter the ASK of the PUT: \"))\n",
    "\n",
    "    #TEST VALUES\n",
    "#     qty_opts = 100\n",
    "#     ATM_sp = 7\n",
    "#     CALL_pr = .20\n",
    "#     PUT_pr = .52\n",
    "\n",
    "    #Calculating and displaying key values\n",
    "    net_debit = (-100 * qty_opts * (PUT_pr)) + 9.95\n",
    "    b_even = strike_price - (-net_debit / (qty_opts * 100))\n",
    "            \n",
    "    pl_plot_nput(net_debit, b_even, strike_price, qty_opts)\n",
    "    \n",
    "    print(\n",
    "        \"\\nThe net debit & max loss is:\", round(net_debit,2), \n",
    "        \"\\nThe max profit is {:.2f}.\".format(100 * qty_opts * strike_price + net_debit),\n",
    "        \"\\nThe breakeven point is:\", round(b_even,2), \n",
    "    )\n",
    "    \n",
    "#     while True:\n",
    "#         exit_price = float(input(\"If the exit price is: \"))\n",
    "#         print(\"The max profit is {:.2f}.\".format(100 * qty_opts * (strike_price - exit_price) + net_debit))"
   ]
  },
  {
   "cell_type": "code",
   "execution_count": 24,
   "metadata": {},
   "outputs": [],
   "source": [
    "def pl_plot_nput(net_debit, breakeven_price, strike_price, num_options):\n",
    "    \n",
    "    #Creating array of x values (stock prices)\n",
    "    dx = 100    \n",
    "    x = np.linspace(strike_price - 2.00, strike_price + 2.00, dx)\n",
    "    \n",
    "    #Piecewise function y(x) calculated as \n",
    "    y = np.piecewise(x, [x >= strike_price, x <= strike_price], \n",
    "                    [net_debit, lambda x: (100 * num_options * (strike_price - x) + net_debit)])\n",
    "    \n",
    "    #Creating array of xtick labels \n",
    "    space = 2\n",
    "    start = strike_price - space\n",
    "    stop = strike_price + space\n",
    "    step = .5 \n",
    "    x_list = []\n",
    "\n",
    "    while start <= stop: \n",
    "        x_list.append(start)\n",
    "        start = start + step\n",
    "    x_list.append(round(breakeven_price,2))\n",
    "    \n",
    "    #Creating figure of the plot\n",
    "    fig = plt.figure(figsize = (10,5))\n",
    "    \n",
    "    #Making axis a subplot and moving it to the 0 position\n",
    "    ax = fig.add_subplot(1, 1, 1)\n",
    "    ax.spines['bottom'].set_position('zero')\n",
    "        \n",
    "    #Labelling and creating xticks\n",
    "    plt.xticks(x_list,x_list)\n",
    "    \n",
    "    #Labelling and creating yticks\n",
    "    plt.yticks([0, net_debit], [0, round(net_debit,2)])\n",
    "    \n",
    "    #Plotting x,y \n",
    "    plt.plot(x,y)\n",
    "            \n",
    "    #Creating axis to replace the moved one from the bottom\n",
    "    ax2 = ax.twiny()\n",
    "    ax2.set_xticks([])\n",
    "    \n",
    "    #Displaying plot\n",
    "    plt.show()"
   ]
  },
  {
   "cell_type": "code",
   "execution_count": null,
   "metadata": {
    "scrolled": true
   },
   "outputs": [],
   "source": [
    "naked_put()"
   ]
  }
 ],
 "metadata": {
  "kernelspec": {
   "display_name": "Python 3",
   "language": "python",
   "name": "python3"
  },
  "language_info": {
   "codemirror_mode": {
    "name": "ipython",
    "version": 3
   },
   "file_extension": ".py",
   "mimetype": "text/x-python",
   "name": "python",
   "nbconvert_exporter": "python",
   "pygments_lexer": "ipython3",
   "version": "3.8.3"
  }
 },
 "nbformat": 4,
 "nbformat_minor": 2
}
